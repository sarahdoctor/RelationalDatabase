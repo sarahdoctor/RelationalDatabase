{
 "cells": [
  {
   "cell_type": "markdown",
   "id": "8a7affff-96b9-4a5f-ab85-621198186d89",
   "metadata": {},
   "source": [
    "# Assignment 2: SQL Queries and Python interface to PostgreSQL"
   ]
  },
  {
   "cell_type": "code",
   "execution_count": 70,
   "id": "dfeb4e2a-f787-4700-bc22-b4a27616c70e",
   "metadata": {},
   "outputs": [
    {
     "name": "stdout",
     "output_type": "stream",
     "text": [
      "Connecting to the PostgreSQL database...\n"
     ]
    }
   ],
   "source": [
    "import psycopg, os\n",
    "\n",
    "print('Connecting to the PostgreSQL database...')\n",
    "conn = psycopg.connect(\n",
    "    host=\"localhost\",\n",
    "    port='5432',\n",
    "    dbname=\"my_db\",\n",
    "    user=\"postgres\",\n",
    "    password=\"123\")"
   ]
  },
  {
   "cell_type": "code",
   "execution_count": 71,
   "id": "59fa50d7-0101-4dc7-8498-03cb8399ee21",
   "metadata": {},
   "outputs": [],
   "source": [
    "# create a cursor\n",
    "cur = conn.cursor()"
   ]
  },
  {
   "cell_type": "code",
   "execution_count": 50,
   "id": "baa168e7-bfaa-431f-af7e-71f106d125ba",
   "metadata": {},
   "outputs": [
    {
     "name": "stdout",
     "output_type": "stream",
     "text": [
      "PostgreSQL database version:\n",
      "('PostgreSQL 16.1 (Debian 16.1-1.pgdg120+1) on aarch64-unknown-linux-gnu, compiled by gcc (Debian 12.2.0-14) 12.2.0, 64-bit',)\n"
     ]
    }
   ],
   "source": [
    "# Display the PostgreSQL database server version\n",
    "print('PostgreSQL database version:')\n",
    "cur.execute('SELECT version()')\n",
    "db_version = cur.fetchone()\n",
    "print(db_version)"
   ]
  },
  {
   "cell_type": "markdown",
   "id": "1e1b352d-ca35-4733-970d-b0394f9cf7b4",
   "metadata": {},
   "source": [
    "### Create A Relational Database"
   ]
  },
  {
   "cell_type": "code",
   "execution_count": 54,
   "id": "1dcee0d8-54cc-4ff5-8c35-474e35ad17cb",
   "metadata": {},
   "outputs": [],
   "source": [
    "# Create Locations Table\n",
    "cur.execute(\"\"\"\n",
    "CREATE TABLE Locations (\n",
    "    location_id SERIAL PRIMARY KEY,\n",
    "    city VARCHAR(100) NOT NULL,\n",
    "    state VARCHAR(100),\n",
    "    country VARCHAR(100) NOT NULL\n",
    ")\n",
    "\"\"\")\n",
    "\n",
    "# Create CEOs Table\n",
    "cur.execute(\"\"\"\n",
    "CREATE TABLE CEOs (\n",
    "    ceo_id SERIAL PRIMARY KEY,\n",
    "    first_name VARCHAR(50) NOT NULL,\n",
    "    last_name VARCHAR(50) NOT NULL,\n",
    "    year_of_birth INT NOT NULL,\n",
    "    place_of_birth_id INT,\n",
    "    year_became_ceo INT NOT NULL,\n",
    "    FOREIGN KEY (place_of_birth_id) REFERENCES Locations(location_id)\n",
    ")\n",
    "\"\"\")\n",
    "\n",
    "# Create Companies Table\n",
    "cur.execute(\"\"\"\n",
    "CREATE TABLE Companies (\n",
    "    company_id SERIAL PRIMARY KEY,\n",
    "    name VARCHAR(100) NOT NULL,\n",
    "    headquarter_city_id INT,\n",
    "    ceo_id INT,\n",
    "    founding_year INT NOT NULL,\n",
    "    FOREIGN KEY (headquarter_city_id) REFERENCES Locations(location_id),\n",
    "    FOREIGN KEY (ceo_id) REFERENCES CEOs(ceo_id)\n",
    ")\n",
    "\"\"\")\n",
    "\n",
    "# Commit the transaction\n",
    "conn.commit()"
   ]
  },
  {
   "cell_type": "markdown",
   "id": "1689594f-017a-4491-88a8-2a57eb5aef11",
   "metadata": {},
   "source": [
    "### Populate the Database"
   ]
  },
  {
   "cell_type": "code",
   "execution_count": 58,
   "id": "6508cefd-a78a-42c6-99cd-2dee0a1f5dbc",
   "metadata": {},
   "outputs": [],
   "source": [
    "# Insert Locations\n",
    "createCmd = \"\"\" INSERT INTO Locations (City, State, Country) VALUES \n",
    "('Mobile', 'AL', 'USA'),\n",
    "('Cupertino', 'CA', 'USA'),\n",
    "('West Godavari', 'Andhra-Pradesh', 'India'),\n",
    "('Armonk', 'NY', 'USA'),\n",
    "('Scarsdale', 'NY', 'USA'),\n",
    "('Seattle', 'WA', 'USA'),\n",
    "('Royal Oak', 'MI', 'USA'),\n",
    "('Detroit', 'MI', 'USA'),\n",
    "('Kumamoto', NULL, 'Japan'),\n",
    "('Tokyo', NULL, 'Japan'),\n",
    "('Shanghai', NULL, 'China'),\n",
    "('Hangzhou', 'Zhejiang', 'China'),\n",
    "('Rennes', 'Illes-et-Villaine', 'France'),\n",
    "('Paris', NULL, 'France'),\n",
    "('Seoul', NULL, 'South Korea'),\n",
    "('Suwon', 'Gyeonggi-do', 'South Korea'),\n",
    "('Memphis', 'TN', 'USA'),\n",
    "('Bentonville', 'Arkansas', 'USA');\n",
    " \"\"\"\n",
    "\n",
    "cur.execute(createCmd)\n",
    "conn.commit()"
   ]
  },
  {
   "cell_type": "code",
   "execution_count": 59,
   "id": "9e5c5dbd-126c-49f8-97c4-073097ca9ba0",
   "metadata": {},
   "outputs": [],
   "source": [
    "# Insert CEOs\n",
    "createCmd = \"\"\"INSERT INTO CEOs (first_name, last_name, year_of_birth, place_of_birth_id, year_became_ceo) VALUES \n",
    "('Tim', 'Cook', 1960, 1, 2011),\n",
    "('Arvind', 'Krishna', 1962, 3, 2020),\n",
    "('Andy', 'Jassy', 1968, 5, 2021),\n",
    "('Mary', 'Barra', 1961, 7, 2014),\n",
    "('Kenichiro', 'Yoshida', 1959, 9, 2018),\n",
    "('Daniel', 'Zhang', 1972, 11, 2015),\n",
    "('François-Henri', 'Pinault', 1962, 13, 2005),\n",
    "('Lee', 'Jae-yong', 1968, 15, 2022),\n",
    "('Doug', 'McMillon', 1966, 17, 2014);\n",
    "\"\"\"\n",
    "\n",
    "cur.execute(createCmd)\n",
    "conn.commit()"
   ]
  },
  {
   "cell_type": "code",
   "execution_count": 60,
   "id": "5e43375e-8827-4736-b0d8-b82d66378271",
   "metadata": {},
   "outputs": [],
   "source": [
    "# Insert Companies\n",
    "createCmd = \"\"\"INSERT INTO Companies (name, headquarter_city_id, ceo_id, founding_year) VALUES \n",
    "('Apple, Inc.', 2, 1, 1976),\n",
    "('IBM', 4, 2, 1911),\n",
    "('Amazon', 6, 3, 1994),\n",
    "('General Motors', 8, 4, 1908),\n",
    "('Sony Corporation', 10, 5, 1946),\n",
    "('Alibaba Group', 12, 6, 1999),\n",
    "('Kering SA', 14, 7, 1963),\n",
    "('Samsung Electronics', 16, 8, 1969),\n",
    "('Walmart', 18, 9, 1962);\n",
    "\"\"\"\n",
    "\n",
    "cur.execute(createCmd)\n",
    "conn.commit()"
   ]
  },
  {
   "cell_type": "markdown",
   "id": "82a420bd-62b2-4f88-a4e1-f652e22a3e6b",
   "metadata": {},
   "source": [
    "### What are the first names of the CEOs of the companies headquartered in South Korea?"
   ]
  },
  {
   "cell_type": "code",
   "execution_count": 77,
   "id": "e8a3a16b-97a9-4fe1-9f87-eb9472f8e6de",
   "metadata": {},
   "outputs": [
    {
     "name": "stdout",
     "output_type": "stream",
     "text": [
      "Lee\n"
     ]
    }
   ],
   "source": [
    "query_1 = \"\"\"\n",
    "SELECT ceos.first_name\n",
    "FROM CEOs\n",
    "JOIN Companies ON ceos.ceo_id = companies.ceo_id\n",
    "JOIN Locations ON companies.headquarter_city_id = locations.location_id\n",
    "WHERE locations.country = 'South Korea';\n",
    "\"\"\"\n",
    "cur.execute(query_1)\n",
    "ceos_in_south_korea = cur.fetchone()\n",
    "print(ceos_in_south_korea[0])"
   ]
  },
  {
   "cell_type": "markdown",
   "id": "35182657-385c-4f81-86e9-4b54b374b7af",
   "metadata": {},
   "source": [
    "### Which city hosts the headquarters of the company whose CEO has a last name Yoshida?"
   ]
  },
  {
   "cell_type": "code",
   "execution_count": 78,
   "id": "c25bbfd6-d87c-4b40-81f6-c1f37ad49bd3",
   "metadata": {},
   "outputs": [
    {
     "name": "stdout",
     "output_type": "stream",
     "text": [
      "Tokyo\n"
     ]
    }
   ],
   "source": [
    "query_2 = \"\"\"\n",
    "SELECT locations.city\n",
    "FROM Locations\n",
    "JOIN Companies ON locations.location_id = companies.headquarter_city_id\n",
    "JOIN CEOs ON companies.ceo_id = ceos.ceo_id\n",
    "WHERE ceos.last_name = 'Yoshida';\n",
    "\"\"\"\n",
    "cur.execute(query_2)\n",
    "city_for_yoshida = cur.fetchone()\n",
    "print(city_for_yoshida[0])"
   ]
  },
  {
   "cell_type": "markdown",
   "id": "85fea9e0-1b93-49bc-824d-b14244619274",
   "metadata": {},
   "source": [
    "### What are the founding years of the companies whose CEOs were born between 1960 and 1969?"
   ]
  },
  {
   "cell_type": "code",
   "execution_count": 76,
   "id": "86bfc80b-7709-4256-af8f-d0a325d310c8",
   "metadata": {},
   "outputs": [
    {
     "name": "stdout",
     "output_type": "stream",
     "text": [
      "1976\n",
      "1911\n",
      "1994\n",
      "1908\n",
      "1963\n",
      "1969\n",
      "1962\n"
     ]
    }
   ],
   "source": [
    "query_3 = \"\"\"\n",
    "SELECT companies.founding_year\n",
    "FROM Companies\n",
    "JOIN CEOs ON companies.ceo_id = ceos.ceo_id\n",
    "WHERE ceos.year_of_birth BETWEEN 1960 AND 1969;\n",
    "\"\"\"\n",
    "cur.execute(query_3)\n",
    "founding_years = cur.fetchone()\n",
    "\n",
    "while founding_years is not None:\n",
    "    print(founding_years[0])\n",
    "    founding_years = cur.fetchone()"
   ]
  },
  {
   "cell_type": "markdown",
   "id": "bc04eadb-80c1-4b66-9cbb-c78534d02f95",
   "metadata": {},
   "source": [
    "### How long has the CEO of the company founded in 1908 been serving in their position?"
   ]
  },
  {
   "cell_type": "code",
   "execution_count": 79,
   "id": "c244e980-cdfb-4159-aa35-4064fc2ef727",
   "metadata": {},
   "outputs": [
    {
     "name": "stdout",
     "output_type": "stream",
     "text": [
      "10\n"
     ]
    }
   ],
   "source": [
    "query_4 = \"\"\"\n",
    "SELECT 2024 - ceos.year_became_ceo AS serving_years\n",
    "FROM Companies\n",
    "JOIN CEOs ON companies.ceo_id = ceos.ceo_id\n",
    "WHERE companies.founding_year = 1908;\n",
    "\"\"\"\n",
    "cur.execute(query_4)\n",
    "serving_years = cur.fetchone()\n",
    "print(serving_years[0])"
   ]
  },
  {
   "cell_type": "markdown",
   "id": "95814254-9662-48b8-b18e-44cbad4a9aa7",
   "metadata": {},
   "source": [
    "### What is the age of the CEO of the company based in Hangzhou?"
   ]
  },
  {
   "cell_type": "code",
   "execution_count": 80,
   "id": "1a9e37e7-0f60-469e-b4e3-43e66656ca80",
   "metadata": {},
   "outputs": [
    {
     "name": "stdout",
     "output_type": "stream",
     "text": [
      "52\n"
     ]
    }
   ],
   "source": [
    "query_5 = \"\"\"\n",
    "SELECT 2024 - ceos.year_of_birth AS ceo_age\n",
    "FROM CEOs \n",
    "JOIN Companies ON ceos.ceo_id = companies.ceo_id\n",
    "JOIN Locations ON companies.headquarter_city_id = locations.location_id\n",
    "WHERE locations.city = 'Hangzhou';\n",
    "\"\"\"\n",
    "cur.execute(query_5)\n",
    "ceo_age = cur.fetchone()\n",
    "print(ceo_age[0])"
   ]
  },
  {
   "cell_type": "code",
   "execution_count": 81,
   "id": "922bc19f-7c6c-4e67-89f6-fca9d97d2b63",
   "metadata": {},
   "outputs": [],
   "source": [
    "# close the communication with the PostgreSQL\n",
    "cur.close()"
   ]
  }
 ],
 "metadata": {
  "kernelspec": {
   "display_name": "Python 3",
   "language": "python",
   "name": "python3"
  },
  "language_info": {
   "codemirror_mode": {
    "name": "ipython",
    "version": 3
   },
   "file_extension": ".py",
   "mimetype": "text/x-python",
   "name": "python",
   "nbconvert_exporter": "python",
   "pygments_lexer": "ipython3",
   "version": "3.8.8"
  }
 },
 "nbformat": 4,
 "nbformat_minor": 5
}
